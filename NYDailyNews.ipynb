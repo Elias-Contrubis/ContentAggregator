{
 "cells": [
  {
   "cell_type": "code",
   "execution_count": 10,
   "metadata": {},
   "outputs": [
    {
     "name": "stdout",
     "output_type": "stream",
     "text": [
      "Trending topics are as follows:\n",
      "\n",
      "Our 100th Anniversary\n",
      "megan rapinoe\n",
      "Cardi B\n",
      "drake\n",
      "Dominican Republic\n",
      "yankees\n"
     ]
    }
   ],
   "source": [
    "import urllib2\n",
    "from bs4 import BeautifulSoup\n",
    "\n",
    "def trending_topics():\n",
    "    \n",
    "    url = 'https://www.nydailynews.com/'\n",
    "    page = urllib2.urlopen(url).read()\n",
    "    \n",
    "\n",
    "    print \"Trending topics are as follows:\\n\"\n",
    "\n",
    "    soup = BeautifulSoup(page, 'html.parser')\n",
    "    topics = soup.find(\"ul\", {\"class\": \"flex-container-row list-unstyled\"})\n",
    "\n",
    "    for t in topics.findAll(\"a\"):\n",
    "        print(t.text)\n",
    "\n",
    "        \n",
    "trending_topics()"
   ]
  },
  {
   "cell_type": "code",
   "execution_count": null,
   "metadata": {},
   "outputs": [],
   "source": []
  },
  {
   "cell_type": "code",
   "execution_count": null,
   "metadata": {},
   "outputs": [],
   "source": []
  }
 ],
 "metadata": {
  "kernelspec": {
   "display_name": "Python 2",
   "language": "python",
   "name": "python2"
  },
  "language_info": {
   "codemirror_mode": {
    "name": "ipython",
    "version": 2
   },
   "file_extension": ".py",
   "mimetype": "text/x-python",
   "name": "python",
   "nbconvert_exporter": "python",
   "pygments_lexer": "ipython2",
   "version": "2.7.15"
  }
 },
 "nbformat": 4,
 "nbformat_minor": 2
}
