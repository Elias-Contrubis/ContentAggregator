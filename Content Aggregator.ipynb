{
 "cells": [
  {
   "cell_type": "code",
   "execution_count": 1,
   "metadata": {},
   "outputs": [
    {
     "name": "stdout",
     "output_type": "stream",
     "text": [
      "200\n"
     ]
    }
   ],
   "source": [
    "import requests\n",
    "url = \"https://community-hacker-news-v1.p.rapidapi.com/topstories.json?print=pretty\"\n",
    "headers = {\"X-RapidAPI-Host\": \"community-hacker-news-v1.p.rapidapi.com\",\"X-RapidAPI-Key\": \"4467bf7533msh2b6bddbebe4e4c5p1c35c1jsn84348eabb04f\"}\n",
    "response = requests.get(url, headers=headers)\n",
    "print(response.status_code)"
   ]
  },
  {
   "cell_type": "code",
   "execution_count": 2,
   "metadata": {},
   "outputs": [
    {
     "name": "stdout",
     "output_type": "stream",
     "text": [
      "[{u'kids': [20564516, 20563907, 20564237, 20564014, 20563473, 20563827, 20563592, 20564069, 20563996, 20563496, 20564039, 20564345, 20563506, 20564062, 20563773, 20563720, 20564570, 20563645, 20563624, 20563461], u'descendants': 133, u'url': u'https://blog.tildeloop.com/posts/javascript-what%E2%80%99s-new-in-es2019', u'title': u'What\\u2019s New in ES2019', u'id': 20563293, u'score': 187, u'time': 1564479011, u'type': u'story', u'by': u'davman'}, {u'kids': [20564078, 20564336, 20564206], u'descendants': 7, u'url': u'https://www.theguardian.com/science/2019/jul/22/mystery-of-chedworth-1800-year-old-roman-glass-shard-solved', u'title': u\"Mystery of Chedworth's 1,800-year-old Roman glass shard solved\", u'id': 20557667, u'score': 33, u'time': 1564424595, u'type': u'story', u'by': u'secondary'}, {u'kids': [20563765, 20564245, 20564152, 20564351, 20563639, 20564350, 20563588, 20563501, 20563654, 20564143], u'descendants': 27, u'url': u'https://medium.com/@filipvitas/how-to-bypass-slider-captcha-with-js-and-puppeteer-cd5e28105e3c', u'title': u'How to Bypass \\u201cSlider Captcha\\u201d', u'id': 20542350, u'score': 50, u'time': 1564240156, u'type': u'story', u'by': u'jsnell'}, {u'kids': [20563024, 20563804, 20564599, 20564652, 20563857, 20563388, 20563227, 20563614, 20561287, 20563948, 20562877, 20564271, 20563476, 20562934], u'descendants': 84, u'url': u'https://www.bloomberg.com/news/articles/2019-07-29/ethiopia-plants-350-million-trees-in-one-day-to-combat-drought', u'title': u'Ethiopia Plants 350M Trees in One Day to Combat Drought and Climate Change', u'id': 20561227, u'score': 168, u'time': 1564449723, u'type': u'story', u'by': u'auntienomen'}, {u'kids': [20564766, 20564752, 20564756], u'descendants': 3, u'url': u'https://www.newslaundry.com/2019/07/29/iit-super-30-bihar-anand-hrithik-roshan', u'title': u'Understanding Bihar\\u2019s Super 30 Phenomenon', u'id': 20557780, u'score': 17, u'time': 1564425199, u'type': u'story', u'by': u'akbarnama'}]\n"
     ]
    }
   ],
   "source": [
    "data = response.json()\n",
    "\n",
    "stories = []\n",
    "url_beginning = \"https://community-hacker-news-v1.p.rapidapi.com/item/\"\n",
    "\n",
    "for id_num in data[:5]:\n",
    "    url_ending = str(id_num) + \".json?print=pretty\"\n",
    "    response = requests.get(url_beginning + url_ending, headers=headers)\n",
    "    stories.append(response.json().copy())"
   ]
  },
  {
   "cell_type": "code",
   "execution_count": 3,
   "metadata": {},
   "outputs": [
    {
     "name": "stdout",
     "output_type": "stream",
     "text": [
      "What’s New in ES2019 \n",
      "https://blog.tildeloop.com/posts/javascript-what%E2%80%99s-new-in-es2019 \n",
      "\n",
      "Mystery of Chedworth's 1,800-year-old Roman glass shard solved \n",
      "https://www.theguardian.com/science/2019/jul/22/mystery-of-chedworth-1800-year-old-roman-glass-shard-solved \n",
      "\n",
      "How to Bypass “Slider Captcha” \n",
      "https://medium.com/@filipvitas/how-to-bypass-slider-captcha-with-js-and-puppeteer-cd5e28105e3c \n",
      "\n",
      "Ethiopia Plants 350M Trees in One Day to Combat Drought and Climate Change \n",
      "https://www.bloomberg.com/news/articles/2019-07-29/ethiopia-plants-350-million-trees-in-one-day-to-combat-drought \n",
      "\n",
      "Understanding Bihar’s Super 30 Phenomenon \n",
      "https://www.newslaundry.com/2019/07/29/iit-super-30-bihar-anand-hrithik-roshan \n",
      "\n"
     ]
    }
   ],
   "source": [
    "for story in stories:\n",
    "    print story.get('title').encode('utf-8'), '\\n', story.get('url').encode('utf-8'), '\\n'\n",
    "    "
   ]
  },
  {
   "cell_type": "code",
   "execution_count": null,
   "metadata": {},
   "outputs": [],
   "source": [
    "#200 — everything went okay, and the result has been returned (if any)\n",
    "#301 — the server is redirecting you to a different endpoint. This can happen when a company switches domain names, or an endpoint name is changed.\n",
    "#401 — the server thinks you’re not authenticated. This happens when you don’t send the right credentials to access an API (we’ll talk about authentication in a later post).\n",
    "#400 — the server thinks you made a bad request. This can happen when you don’t send along the right data, among other things.\n",
    "#403 — the resource you’re trying to access is forbidden — you don’t have the right permissions to see it.\n",
    "#404 — the resource you tried to access wasn’t found on the server."
   ]
  }
 ],
 "metadata": {
  "kernelspec": {
   "display_name": "Python 2",
   "language": "python",
   "name": "python2"
  },
  "language_info": {
   "codemirror_mode": {
    "name": "ipython",
    "version": 2
   },
   "file_extension": ".py",
   "mimetype": "text/x-python",
   "name": "python",
   "nbconvert_exporter": "python",
   "pygments_lexer": "ipython2",
   "version": "2.7.15"
  }
 },
 "nbformat": 4,
 "nbformat_minor": 2
}
